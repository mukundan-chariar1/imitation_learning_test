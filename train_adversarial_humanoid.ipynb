{
 "cells": [
  {
   "cell_type": "code",
   "execution_count": 1,
   "id": "3289f184",
   "metadata": {},
   "outputs": [],
   "source": [
    "import functools\n",
    "import jax\n",
    "import os\n",
    "\n",
    "from datetime import datetime\n",
    "from jax import numpy as jp\n",
    "import matplotlib.pyplot as plt\n",
    "\n",
    "from IPython.display import HTML, clear_output\n",
    "\n",
    "import brax\n",
    "\n",
    "import flax\n",
    "from brax import envs\n",
    "from brax.io import model\n",
    "from brax.io import json\n",
    "from brax.io import html\n",
    "from brax.training.agents.ppo import train as ppo\n",
    "from brax.training.agents.sac import train as sac"
   ]
  },
  {
   "cell_type": "code",
   "execution_count": 2,
   "id": "b4be66b1",
   "metadata": {},
   "outputs": [],
   "source": [
    "from lib.environments.classic import adversarialHumanoid\n",
    "\n",
    "envs.register_environment('custom_humanoid', adversarialHumanoid)"
   ]
  },
  {
   "cell_type": "code",
   "execution_count": 3,
   "id": "bb205a12",
   "metadata": {},
   "outputs": [],
   "source": [
    "env_name = \"custom_humanoid\" # @param [\"ant\",\"halfcheetah\",\"hopper\",\"humanoid\",\"humanoidstandup\",\"inverted_pendulum\",\"inverted_double_pendulum\",\"pusher\",\"reacher\",\"walker2d\",\"custom_humanoid\"]\n",
    "backend = \"mjx\" # @param [\"generalized\",\"positional\",\"spring\",\"mjx\"]\n",
    "\n",
    "env = envs.get_environment(env_name=env_name, rng=jax.random.PRNGKey(0), disc_path='weights/discriminator.pkl',\n",
    "                           backend=backend)"
   ]
  },
  {
   "cell_type": "code",
   "execution_count": 10,
   "id": "0ea0abbd",
   "metadata": {},
   "outputs": [
    {
     "name": "stdout",
     "output_type": "stream",
     "text": [
      "00:02:16: 39.60\n"
     ]
    },
    {
     "data": {
      "image/png": "[encoded data removed]",
      "text/plain": [
       "<Figure size 640x480 with 1 Axes>"
      ]
     },
     "metadata": {},
     "output_type": "display_data"
    },
    {
     "name": "stdout",
     "output_type": "stream",
     "text": [
      "time to jit: 0:00:29.124109\n",
      "time to train: 0:01:47.009213\n"
     ]
    }
   ],
   "source": [
    "# train_fn=functools.partial(ppo.train,  num_timesteps=50_000_000, num_evals=10, reward_scaling=0.1, episode_length=1000, normalize_observations=True, action_repeat=1, unroll_length=10, num_minibatches=32, num_updates_per_batch=8, discounting=0.97, learning_rate=3e-4, entropy_cost=1e-3, num_envs=2048, batch_size=1024, seed=1)\n",
    "\n",
    "train_fn = functools.partial(\n",
    "    sac.train,\n",
    "    num_timesteps=100_000,\n",
    "    num_evals=10,\n",
    "    reward_scaling=0.1,\n",
    "    episode_length=1000,\n",
    "    normalize_observations=True,\n",
    "    action_repeat=1,\n",
    "    discounting=0.97,\n",
    "    learning_rate=3e-4,\n",
    "    num_envs=512,\n",
    "    batch_size=256,\n",
    "    seed=1,\n",
    "    tau=0.005,             # target smoothing coefficient (typical SAC value)\n",
    "    # hidden_layer_sizes=(256, 256),  # default policy + critic network sizes\n",
    "    # entropy_cost=1e-3      # encourages exploration\n",
    ")\n",
    "\n",
    "max_y = {'ant': 8000, 'halfcheetah': 8000, 'hopper': 2500, 'custom_humanoid': 26000, 'humanoidstandup': 75_000, 'reacher': 5, 'walker2d': 5000, 'pusher': 0}[env_name]\n",
    "min_y = {'reacher': -100, 'pusher': -150}.get(env_name, 0)\n",
    "\n",
    "xdata, ydata = [], []\n",
    "start_time=datetime.now()\n",
    "times = [start_time]\n",
    "\n",
    "def format_elapsed_time(seconds):\n",
    "    \"\"\"Converts elapsed seconds to HH:MM:SS format\"\"\"\n",
    "    hours, remainder = divmod(int(seconds), 3600)\n",
    "    minutes, seconds = divmod(remainder, 60)\n",
    "    return f\"{hours:02}:{minutes:02}:{seconds:02}\"\n",
    "\n",
    "def progress(num_steps, metrics):\n",
    "  times.append(datetime.now())\n",
    "  xdata.append(num_steps)\n",
    "  ydata.append(metrics['eval/episode_reward'])\n",
    "  clear_output(wait=True)\n",
    "  current_time = datetime.now()\n",
    "  elapsed_seconds = (current_time - start_time).total_seconds()  # Compute elapsed time in seconds\n",
    "  elapsed_time_str = format_elapsed_time(elapsed_seconds)\n",
    "  print(f\"{elapsed_time_str}: {ydata[-1]:.2f}\")\n",
    "  plt.xlim([0, train_fn.keywords['num_timesteps']])\n",
    "  plt.ylim([min_y, max_y])\n",
    "  plt.xlabel('# environment steps')\n",
    "  plt.ylabel('reward per episode')\n",
    "  plt.plot(xdata, ydata)\n",
    "  plt.show()\n",
    "\n",
    "make_inference_fn, params, _ = train_fn(environment=env, progress_fn=progress)\n",
    "\n",
    "print(f'time to jit: {times[1] - times[0]}')\n",
    "print(f'time to train: {times[-1] - times[1]}')"
   ]
  },
  {
   "cell_type": "code",
   "execution_count": 5,
   "id": "9d713af2",
   "metadata": {},
   "outputs": [],
   "source": [
    "model.save_params('weights/params_adversarial_recreation.pkl', params)\n",
    "params = model.load_params('weights/params_adversarial_recreation.pkl')\n",
    "inference_fn = make_inference_fn(params)"
   ]
  },
  {
   "cell_type": "code",
   "execution_count": 6,
   "id": "935e58c5",
   "metadata": {},
   "outputs": [],
   "source": [
    "#@title Visualizing a trajectory of the learned inference function\n",
    "\n",
    "# create an env with auto-reset\n",
    "env = envs.create(env_name=env_name, rng=jax.random.PRNGKey(seed=0), disc_path='weights/discriminator.pkl', backend=backend)\n",
    "\n",
    "jit_env_reset = jax.jit(env.reset)\n",
    "jit_env_step = jax.jit(env.step)\n",
    "jit_inference_fn = jax.jit(inference_fn)\n",
    "\n",
    "rollout = []\n",
    "rng = jax.random.PRNGKey(seed=1)\n",
    "state = jit_env_reset(rng=rng)\n",
    "for _ in range(1000):\n",
    "  rollout.append(state.pipeline_state)\n",
    "  act_rng, rng = jax.random.split(rng)\n",
    "  act, _ = jit_inference_fn(state.obs, act_rng)\n",
    "  state = jit_env_step(state, act)\n",
    "\n",
    "# HTML(html.render(env.sys.tree_replace({'opt.timestep': env.dt}), rollout))"
   ]
  },
  {
   "cell_type": "code",
   "execution_count": 7,
   "id": "8cfb7093",
   "metadata": {},
   "outputs": [
    {
     "name": "stdout",
     "output_type": "stream",
     "text": [
      "Rollout successful, saved at /home/mukundan/Desktop/Summer_SEM/imitation_learning/temp.html\n"
     ]
    },
    {
     "name": "stdout",
     "output_type": "stream",
     "text": [
      "Opening in existing browser session.\n"
     ]
    }
   ],
   "source": [
    "from lib.utils.viz import *\n",
    "\n",
    "create_interactive_rollout(env=env, rollout=rollout, headless=False)"
   ]
  }
 ],
 "metadata": {
  "kernelspec": {
   "display_name": "rl",
   "language": "python",
   "name": "python3"
  },
  "language_info": {
   "codemirror_mode": {
    "name": "ipython",
    "version": 3
   },
   "file_extension": ".py",
   "mimetype": "text/x-python",
   "name": "python",
   "nbconvert_exporter": "python",
   "pygments_lexer": "ipython3",
   "version": "3.12.3"
  }
 },
 "nbformat": 4,
 "nbformat_minor": 5
}
